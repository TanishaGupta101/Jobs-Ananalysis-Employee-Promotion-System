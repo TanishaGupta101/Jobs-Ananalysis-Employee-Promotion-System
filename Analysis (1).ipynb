{
 "cells": [
  {
   "cell_type": "code",
   "execution_count": 1,
   "metadata": {},
   "outputs": [],
   "source": [
    "# lets import the Library\n",
    "import pandas as pd"
   ]
  },
  {
   "cell_type": "code",
   "execution_count": 2,
   "metadata": {},
   "outputs": [],
   "source": [
    "# lets read the dataset\n",
    "data = pd.read_csv('data.csv')"
   ]
  },
  {
   "cell_type": "code",
   "execution_count": 3,
   "metadata": {},
   "outputs": [
    {
     "data": {
      "text/html": [
       "<div>\n",
       "<style scoped>\n",
       "    .dataframe tbody tr th:only-of-type {\n",
       "        vertical-align: middle;\n",
       "    }\n",
       "\n",
       "    .dataframe tbody tr th {\n",
       "        vertical-align: top;\n",
       "    }\n",
       "\n",
       "    .dataframe thead th {\n",
       "        text-align: right;\n",
       "    }\n",
       "</style>\n",
       "<table border=\"1\" class=\"dataframe\">\n",
       "  <thead>\n",
       "    <tr style=\"text-align: right;\">\n",
       "      <th></th>\n",
       "      <th>employee_id</th>\n",
       "      <th>department</th>\n",
       "      <th>region</th>\n",
       "      <th>education</th>\n",
       "      <th>gender</th>\n",
       "      <th>recruitment_channel</th>\n",
       "      <th>no_of_trainings</th>\n",
       "      <th>age</th>\n",
       "      <th>previous_year_rating</th>\n",
       "      <th>length_of_service</th>\n",
       "      <th>KPIs_met &gt;80%</th>\n",
       "      <th>awards_won?</th>\n",
       "      <th>avg_training_score</th>\n",
       "      <th>is_promoted</th>\n",
       "    </tr>\n",
       "  </thead>\n",
       "  <tbody>\n",
       "    <tr>\n",
       "      <th>0</th>\n",
       "      <td>65438</td>\n",
       "      <td>Sales &amp; Marketing</td>\n",
       "      <td>region_7</td>\n",
       "      <td>Master's &amp; above</td>\n",
       "      <td>f</td>\n",
       "      <td>sourcing</td>\n",
       "      <td>1</td>\n",
       "      <td>35</td>\n",
       "      <td>5.0</td>\n",
       "      <td>8</td>\n",
       "      <td>1</td>\n",
       "      <td>0</td>\n",
       "      <td>49</td>\n",
       "      <td>0</td>\n",
       "    </tr>\n",
       "    <tr>\n",
       "      <th>1</th>\n",
       "      <td>65141</td>\n",
       "      <td>Operations</td>\n",
       "      <td>region_22</td>\n",
       "      <td>Bachelor's</td>\n",
       "      <td>m</td>\n",
       "      <td>other</td>\n",
       "      <td>1</td>\n",
       "      <td>30</td>\n",
       "      <td>5.0</td>\n",
       "      <td>4</td>\n",
       "      <td>0</td>\n",
       "      <td>0</td>\n",
       "      <td>60</td>\n",
       "      <td>0</td>\n",
       "    </tr>\n",
       "    <tr>\n",
       "      <th>2</th>\n",
       "      <td>7513</td>\n",
       "      <td>Sales &amp; Marketing</td>\n",
       "      <td>region_19</td>\n",
       "      <td>Bachelor's</td>\n",
       "      <td>m</td>\n",
       "      <td>sourcing</td>\n",
       "      <td>1</td>\n",
       "      <td>34</td>\n",
       "      <td>3.0</td>\n",
       "      <td>7</td>\n",
       "      <td>0</td>\n",
       "      <td>0</td>\n",
       "      <td>50</td>\n",
       "      <td>0</td>\n",
       "    </tr>\n",
       "    <tr>\n",
       "      <th>3</th>\n",
       "      <td>2542</td>\n",
       "      <td>Sales &amp; Marketing</td>\n",
       "      <td>region_23</td>\n",
       "      <td>Bachelor's</td>\n",
       "      <td>m</td>\n",
       "      <td>other</td>\n",
       "      <td>2</td>\n",
       "      <td>39</td>\n",
       "      <td>1.0</td>\n",
       "      <td>10</td>\n",
       "      <td>0</td>\n",
       "      <td>0</td>\n",
       "      <td>50</td>\n",
       "      <td>0</td>\n",
       "    </tr>\n",
       "    <tr>\n",
       "      <th>4</th>\n",
       "      <td>48945</td>\n",
       "      <td>Technology</td>\n",
       "      <td>region_26</td>\n",
       "      <td>Bachelor's</td>\n",
       "      <td>m</td>\n",
       "      <td>other</td>\n",
       "      <td>1</td>\n",
       "      <td>45</td>\n",
       "      <td>3.0</td>\n",
       "      <td>2</td>\n",
       "      <td>0</td>\n",
       "      <td>0</td>\n",
       "      <td>73</td>\n",
       "      <td>0</td>\n",
       "    </tr>\n",
       "  </tbody>\n",
       "</table>\n",
       "</div>"
      ],
      "text/plain": [
       "   employee_id         department     region         education gender  \\\n",
       "0        65438  Sales & Marketing   region_7  Master's & above      f   \n",
       "1        65141         Operations  region_22        Bachelor's      m   \n",
       "2         7513  Sales & Marketing  region_19        Bachelor's      m   \n",
       "3         2542  Sales & Marketing  region_23        Bachelor's      m   \n",
       "4        48945         Technology  region_26        Bachelor's      m   \n",
       "\n",
       "  recruitment_channel  no_of_trainings  age  previous_year_rating  \\\n",
       "0            sourcing                1   35                   5.0   \n",
       "1               other                1   30                   5.0   \n",
       "2            sourcing                1   34                   3.0   \n",
       "3               other                2   39                   1.0   \n",
       "4               other                1   45                   3.0   \n",
       "\n",
       "   length_of_service  KPIs_met >80%  awards_won?  avg_training_score  \\\n",
       "0                  8              1            0                  49   \n",
       "1                  4              0            0                  60   \n",
       "2                  7              0            0                  50   \n",
       "3                 10              0            0                  50   \n",
       "4                  2              0            0                  73   \n",
       "\n",
       "   is_promoted  \n",
       "0            0  \n",
       "1            0  \n",
       "2            0  \n",
       "3            0  \n",
       "4            0  "
      ]
     },
     "execution_count": 3,
     "metadata": {},
     "output_type": "execute_result"
    }
   ],
   "source": [
    "# lets check the head of the dataset\n",
    "data.head()"
   ]
  },
  {
   "cell_type": "code",
   "execution_count": 55,
   "metadata": {},
   "outputs": [
    {
     "data": {
      "text/plain": [
       "count                 54808\n",
       "unique                    9\n",
       "top       Sales & Marketing\n",
       "freq                  16840\n",
       "Name: department, dtype: object"
      ]
     },
     "execution_count": 55,
     "metadata": {},
     "output_type": "execute_result"
    }
   ],
   "source": [
    "data['department'].describe()"
   ]
  },
  {
   "cell_type": "code",
   "execution_count": 53,
   "metadata": {},
   "outputs": [
    {
     "data": {
      "text/html": [
       "<div>\n",
       "<style scoped>\n",
       "    .dataframe tbody tr th:only-of-type {\n",
       "        vertical-align: middle;\n",
       "    }\n",
       "\n",
       "    .dataframe tbody tr th {\n",
       "        vertical-align: top;\n",
       "    }\n",
       "\n",
       "    .dataframe thead th {\n",
       "        text-align: right;\n",
       "    }\n",
       "</style>\n",
       "<table border=\"1\" class=\"dataframe\">\n",
       "  <thead>\n",
       "    <tr style=\"text-align: right;\">\n",
       "      <th></th>\n",
       "      <th>is_promoted</th>\n",
       "    </tr>\n",
       "    <tr>\n",
       "      <th>department</th>\n",
       "      <th></th>\n",
       "    </tr>\n",
       "  </thead>\n",
       "  <tbody>\n",
       "    <tr>\n",
       "      <th>Technology</th>\n",
       "      <td>0.107593</td>\n",
       "    </tr>\n",
       "    <tr>\n",
       "      <th>Procurement</th>\n",
       "      <td>0.096386</td>\n",
       "    </tr>\n",
       "    <tr>\n",
       "      <th>Analytics</th>\n",
       "      <td>0.095665</td>\n",
       "    </tr>\n",
       "    <tr>\n",
       "      <th>Operations</th>\n",
       "      <td>0.090148</td>\n",
       "    </tr>\n",
       "    <tr>\n",
       "      <th>Finance</th>\n",
       "      <td>0.081230</td>\n",
       "    </tr>\n",
       "    <tr>\n",
       "      <th>Sales &amp; Marketing</th>\n",
       "      <td>0.072031</td>\n",
       "    </tr>\n",
       "    <tr>\n",
       "      <th>R&amp;D</th>\n",
       "      <td>0.069069</td>\n",
       "    </tr>\n",
       "    <tr>\n",
       "      <th>HR</th>\n",
       "      <td>0.056245</td>\n",
       "    </tr>\n",
       "    <tr>\n",
       "      <th>Legal</th>\n",
       "      <td>0.051011</td>\n",
       "    </tr>\n",
       "  </tbody>\n",
       "</table>\n",
       "</div>"
      ],
      "text/plain": [
       "                   is_promoted\n",
       "department                    \n",
       "Technology            0.107593\n",
       "Procurement           0.096386\n",
       "Analytics             0.095665\n",
       "Operations            0.090148\n",
       "Finance               0.081230\n",
       "Sales & Marketing     0.072031\n",
       "R&D                   0.069069\n",
       "HR                    0.056245\n",
       "Legal                 0.051011"
      ]
     },
     "execution_count": 53,
     "metadata": {},
     "output_type": "execute_result"
    }
   ],
   "source": [
    "data[['department','is_promoted']].groupby(['department']).agg('mean').sort_values('is_promoted', ascending = False)"
   ]
  },
  {
   "cell_type": "code",
   "execution_count": 33,
   "metadata": {},
   "outputs": [
    {
     "data": {
      "text/html": [
       "<div>\n",
       "<style scoped>\n",
       "    .dataframe tbody tr th:only-of-type {\n",
       "        vertical-align: middle;\n",
       "    }\n",
       "\n",
       "    .dataframe tbody tr th {\n",
       "        vertical-align: top;\n",
       "    }\n",
       "\n",
       "    .dataframe thead th {\n",
       "        text-align: right;\n",
       "    }\n",
       "</style>\n",
       "<table border=\"1\" class=\"dataframe\">\n",
       "  <thead>\n",
       "    <tr style=\"text-align: right;\">\n",
       "      <th></th>\n",
       "      <th>is_promoted</th>\n",
       "    </tr>\n",
       "    <tr>\n",
       "      <th>recruitment_channel</th>\n",
       "      <th></th>\n",
       "    </tr>\n",
       "  </thead>\n",
       "  <tbody>\n",
       "    <tr>\n",
       "      <th>other</th>\n",
       "      <td>0.083952</td>\n",
       "    </tr>\n",
       "    <tr>\n",
       "      <th>referred</th>\n",
       "      <td>0.120841</td>\n",
       "    </tr>\n",
       "    <tr>\n",
       "      <th>sourcing</th>\n",
       "      <td>0.085013</td>\n",
       "    </tr>\n",
       "  </tbody>\n",
       "</table>\n",
       "</div>"
      ],
      "text/plain": [
       "                     is_promoted\n",
       "recruitment_channel             \n",
       "other                   0.083952\n",
       "referred                0.120841\n",
       "sourcing                0.085013"
      ]
     },
     "execution_count": 33,
     "metadata": {},
     "output_type": "execute_result"
    }
   ],
   "source": [
    "data[['recruitment_channel','is_promoted']].groupby(['recruitment_channel']).agg('mean')"
   ]
  },
  {
   "cell_type": "code",
   "execution_count": 31,
   "metadata": {},
   "outputs": [
    {
     "data": {
      "text/html": [
       "<div>\n",
       "<style scoped>\n",
       "    .dataframe tbody tr th:only-of-type {\n",
       "        vertical-align: middle;\n",
       "    }\n",
       "\n",
       "    .dataframe tbody tr th {\n",
       "        vertical-align: top;\n",
       "    }\n",
       "\n",
       "    .dataframe thead th {\n",
       "        text-align: right;\n",
       "    }\n",
       "</style>\n",
       "<table border=\"1\" class=\"dataframe\">\n",
       "  <thead>\n",
       "    <tr style=\"text-align: right;\">\n",
       "      <th></th>\n",
       "      <th></th>\n",
       "      <th>is_promoted</th>\n",
       "    </tr>\n",
       "    <tr>\n",
       "      <th>gender</th>\n",
       "      <th>department</th>\n",
       "      <th></th>\n",
       "    </tr>\n",
       "  </thead>\n",
       "  <tbody>\n",
       "    <tr>\n",
       "      <th rowspan=\"2\" valign=\"top\">f</th>\n",
       "      <th>Analytics</th>\n",
       "      <td>0.120858</td>\n",
       "    </tr>\n",
       "    <tr>\n",
       "      <th>Procurement</th>\n",
       "      <td>0.117128</td>\n",
       "    </tr>\n",
       "    <tr>\n",
       "      <th>m</th>\n",
       "      <th>Technology</th>\n",
       "      <td>0.112874</td>\n",
       "    </tr>\n",
       "    <tr>\n",
       "      <th rowspan=\"3\" valign=\"top\">f</th>\n",
       "      <th>R&amp;D</th>\n",
       "      <td>0.105263</td>\n",
       "    </tr>\n",
       "    <tr>\n",
       "      <th>Technology</th>\n",
       "      <td>0.099354</td>\n",
       "    </tr>\n",
       "    <tr>\n",
       "      <th>Operations</th>\n",
       "      <td>0.094505</td>\n",
       "    </tr>\n",
       "    <tr>\n",
       "      <th rowspan=\"3\" valign=\"top\">m</th>\n",
       "      <th>Analytics</th>\n",
       "      <td>0.092994</td>\n",
       "    </tr>\n",
       "    <tr>\n",
       "      <th>Operations</th>\n",
       "      <td>0.087093</td>\n",
       "    </tr>\n",
       "    <tr>\n",
       "      <th>Finance</th>\n",
       "      <td>0.081402</td>\n",
       "    </tr>\n",
       "    <tr>\n",
       "      <th>f</th>\n",
       "      <th>Finance</th>\n",
       "      <td>0.080764</td>\n",
       "    </tr>\n",
       "    <tr>\n",
       "      <th rowspan=\"3\" valign=\"top\">m</th>\n",
       "      <th>Procurement</th>\n",
       "      <td>0.078681</td>\n",
       "    </tr>\n",
       "    <tr>\n",
       "      <th>Sales &amp; Marketing</th>\n",
       "      <td>0.075771</td>\n",
       "    </tr>\n",
       "    <tr>\n",
       "      <th>R&amp;D</th>\n",
       "      <td>0.066879</td>\n",
       "    </tr>\n",
       "    <tr>\n",
       "      <th rowspan=\"2\" valign=\"top\">f</th>\n",
       "      <th>HR</th>\n",
       "      <td>0.057654</td>\n",
       "    </tr>\n",
       "    <tr>\n",
       "      <th>Sales &amp; Marketing</th>\n",
       "      <td>0.055802</td>\n",
       "    </tr>\n",
       "    <tr>\n",
       "      <th rowspan=\"2\" valign=\"top\">m</th>\n",
       "      <th>HR</th>\n",
       "      <td>0.055241</td>\n",
       "    </tr>\n",
       "    <tr>\n",
       "      <th>Legal</th>\n",
       "      <td>0.052809</td>\n",
       "    </tr>\n",
       "    <tr>\n",
       "      <th>f</th>\n",
       "      <th>Legal</th>\n",
       "      <td>0.040268</td>\n",
       "    </tr>\n",
       "  </tbody>\n",
       "</table>\n",
       "</div>"
      ],
      "text/plain": [
       "                          is_promoted\n",
       "gender department                    \n",
       "f      Analytics             0.120858\n",
       "       Procurement           0.117128\n",
       "m      Technology            0.112874\n",
       "f      R&D                   0.105263\n",
       "       Technology            0.099354\n",
       "       Operations            0.094505\n",
       "m      Analytics             0.092994\n",
       "       Operations            0.087093\n",
       "       Finance               0.081402\n",
       "f      Finance               0.080764\n",
       "m      Procurement           0.078681\n",
       "       Sales & Marketing     0.075771\n",
       "       R&D                   0.066879\n",
       "f      HR                    0.057654\n",
       "       Sales & Marketing     0.055802\n",
       "m      HR                    0.055241\n",
       "       Legal                 0.052809\n",
       "f      Legal                 0.040268"
      ]
     },
     "execution_count": 31,
     "metadata": {},
     "output_type": "execute_result"
    }
   ],
   "source": [
    "data[['department','gender','is_promoted']].groupby(['gender',\n",
    "                        'department']).agg('mean').sort_values(by = 'is_promoted', ascending = False)"
   ]
  },
  {
   "cell_type": "code",
   "execution_count": 28,
   "metadata": {},
   "outputs": [
    {
     "data": {
      "text/html": [
       "<style  type=\"text/css\" >\n",
       "    #T_d1303a3a_ef43_11ea_9edb_b46d83e4183erow0_col0 {\n",
       "            background-color:  #ffa600;\n",
       "            color:  #000000;\n",
       "        }    #T_d1303a3a_ef43_11ea_9edb_b46d83e4183erow0_col1 {\n",
       "            background-color:  #ffa500;\n",
       "            color:  #000000;\n",
       "        }    #T_d1303a3a_ef43_11ea_9edb_b46d83e4183erow0_col2 {\n",
       "            background-color:  #f8ee33;\n",
       "            color:  #000000;\n",
       "        }    #T_d1303a3a_ef43_11ea_9edb_b46d83e4183erow1_col0 {\n",
       "            background-color:  #eafa66;\n",
       "            color:  #000000;\n",
       "        }    #T_d1303a3a_ef43_11ea_9edb_b46d83e4183erow1_col1 {\n",
       "            background-color:  #f2f347;\n",
       "            color:  #000000;\n",
       "        }    #T_d1303a3a_ef43_11ea_9edb_b46d83e4183erow1_col2 {\n",
       "            background-color:  #fc7f00;\n",
       "            color:  #000000;\n",
       "        }    #T_d1303a3a_ef43_11ea_9edb_b46d83e4183erow2_col0 {\n",
       "            background-color:  #e6fe74;\n",
       "            color:  #000000;\n",
       "        }    #T_d1303a3a_ef43_11ea_9edb_b46d83e4183erow2_col1 {\n",
       "            background-color:  #e9fb69;\n",
       "            color:  #000000;\n",
       "        }    #T_d1303a3a_ef43_11ea_9edb_b46d83e4183erow2_col2 {\n",
       "            background-color:  #fc7f00;\n",
       "            color:  #000000;\n",
       "        }    #T_d1303a3a_ef43_11ea_9edb_b46d83e4183erow3_col0 {\n",
       "            background-color:  #e4ff7a;\n",
       "            color:  #000000;\n",
       "        }    #T_d1303a3a_ef43_11ea_9edb_b46d83e4183erow3_col1 {\n",
       "            background-color:  #e4ff7a;\n",
       "            color:  #000000;\n",
       "        }    #T_d1303a3a_ef43_11ea_9edb_b46d83e4183erow3_col2 {\n",
       "            background-color:  #fc7f00;\n",
       "            color:  #000000;\n",
       "        }    #T_d1303a3a_ef43_11ea_9edb_b46d83e4183erow4_col0 {\n",
       "            background-color:  #fdea23;\n",
       "            color:  #000000;\n",
       "        }    #T_d1303a3a_ef43_11ea_9edb_b46d83e4183erow4_col1 {\n",
       "            background-color:  #ffb200;\n",
       "            color:  #000000;\n",
       "        }    #T_d1303a3a_ef43_11ea_9edb_b46d83e4183erow4_col2 {\n",
       "            background-color:  #fc7f00;\n",
       "            color:  #000000;\n",
       "        }    #T_d1303a3a_ef43_11ea_9edb_b46d83e4183erow5_col0 {\n",
       "            background-color:  #ffc907;\n",
       "            color:  #000000;\n",
       "        }    #T_d1303a3a_ef43_11ea_9edb_b46d83e4183erow5_col1 {\n",
       "            background-color:  #ffb500;\n",
       "            color:  #000000;\n",
       "        }    #T_d1303a3a_ef43_11ea_9edb_b46d83e4183erow5_col2 {\n",
       "            background-color:  #ffd60f;\n",
       "            color:  #000000;\n",
       "        }    #T_d1303a3a_ef43_11ea_9edb_b46d83e4183erow6_col0 {\n",
       "            background-color:  #f0f54e;\n",
       "            color:  #000000;\n",
       "        }    #T_d1303a3a_ef43_11ea_9edb_b46d83e4183erow6_col1 {\n",
       "            background-color:  #e9fb69;\n",
       "            color:  #000000;\n",
       "        }    #T_d1303a3a_ef43_11ea_9edb_b46d83e4183erow6_col2 {\n",
       "            background-color:  #e4ff7a;\n",
       "            color:  #000000;\n",
       "        }    #T_d1303a3a_ef43_11ea_9edb_b46d83e4183erow7_col0 {\n",
       "            background-color:  #ffd710;\n",
       "            color:  #000000;\n",
       "        }    #T_d1303a3a_ef43_11ea_9edb_b46d83e4183erow7_col1 {\n",
       "            background-color:  #fd8b00;\n",
       "            color:  #000000;\n",
       "        }    #T_d1303a3a_ef43_11ea_9edb_b46d83e4183erow7_col2 {\n",
       "            background-color:  #fc7f00;\n",
       "            color:  #000000;\n",
       "        }    #T_d1303a3a_ef43_11ea_9edb_b46d83e4183erow8_col0 {\n",
       "            background-color:  #fc7f00;\n",
       "            color:  #000000;\n",
       "        }    #T_d1303a3a_ef43_11ea_9edb_b46d83e4183erow8_col1 {\n",
       "            background-color:  #fc7f00;\n",
       "            color:  #000000;\n",
       "        }    #T_d1303a3a_ef43_11ea_9edb_b46d83e4183erow8_col2 {\n",
       "            background-color:  #f7ef36;\n",
       "            color:  #000000;\n",
       "        }</style><table id=\"T_d1303a3a_ef43_11ea_9edb_b46d83e4183e\" ><thead>    <tr>        <th class=\"blank level0\" ></th>        <th class=\"col_heading level0 col0\" colspan=3>is_promoted</th>    </tr>    <tr>        <th class=\"blank level1\" ></th>        <th class=\"col_heading level1 col0\" >count</th>        <th class=\"col_heading level1 col1\" >sum</th>        <th class=\"col_heading level1 col2\" >mean</th>    </tr>    <tr>        <th class=\"index_name level0\" >department</th>        <th class=\"blank\" ></th>        <th class=\"blank\" ></th>        <th class=\"blank\" ></th>    </tr></thead><tbody>\n",
       "                <tr>\n",
       "                        <th id=\"T_d1303a3a_ef43_11ea_9edb_b46d83e4183elevel0_row0\" class=\"row_heading level0 row0\" >Analytics</th>\n",
       "                        <td id=\"T_d1303a3a_ef43_11ea_9edb_b46d83e4183erow0_col0\" class=\"data row0 col0\" >82</td>\n",
       "                        <td id=\"T_d1303a3a_ef43_11ea_9edb_b46d83e4183erow0_col1\" class=\"data row0 col1\" >33</td>\n",
       "                        <td id=\"T_d1303a3a_ef43_11ea_9edb_b46d83e4183erow0_col2\" class=\"data row0 col2\" >0.402439</td>\n",
       "            </tr>\n",
       "            <tr>\n",
       "                        <th id=\"T_d1303a3a_ef43_11ea_9edb_b46d83e4183elevel0_row1\" class=\"row_heading level0 row1\" >Finance</th>\n",
       "                        <td id=\"T_d1303a3a_ef43_11ea_9edb_b46d83e4183erow1_col0\" class=\"data row1 col0\" >8</td>\n",
       "                        <td id=\"T_d1303a3a_ef43_11ea_9edb_b46d83e4183erow1_col1\" class=\"data row1 col1\" >8</td>\n",
       "                        <td id=\"T_d1303a3a_ef43_11ea_9edb_b46d83e4183erow1_col2\" class=\"data row1 col2\" >1</td>\n",
       "            </tr>\n",
       "            <tr>\n",
       "                        <th id=\"T_d1303a3a_ef43_11ea_9edb_b46d83e4183elevel0_row2\" class=\"row_heading level0 row2\" >HR</th>\n",
       "                        <td id=\"T_d1303a3a_ef43_11ea_9edb_b46d83e4183erow2_col0\" class=\"data row2 col0\" >4</td>\n",
       "                        <td id=\"T_d1303a3a_ef43_11ea_9edb_b46d83e4183erow2_col1\" class=\"data row2 col1\" >4</td>\n",
       "                        <td id=\"T_d1303a3a_ef43_11ea_9edb_b46d83e4183erow2_col2\" class=\"data row2 col2\" >1</td>\n",
       "            </tr>\n",
       "            <tr>\n",
       "                        <th id=\"T_d1303a3a_ef43_11ea_9edb_b46d83e4183elevel0_row3\" class=\"row_heading level0 row3\" >Legal</th>\n",
       "                        <td id=\"T_d1303a3a_ef43_11ea_9edb_b46d83e4183erow3_col0\" class=\"data row3 col0\" >2</td>\n",
       "                        <td id=\"T_d1303a3a_ef43_11ea_9edb_b46d83e4183erow3_col1\" class=\"data row3 col1\" >2</td>\n",
       "                        <td id=\"T_d1303a3a_ef43_11ea_9edb_b46d83e4183erow3_col2\" class=\"data row3 col2\" >1</td>\n",
       "            </tr>\n",
       "            <tr>\n",
       "                        <th id=\"T_d1303a3a_ef43_11ea_9edb_b46d83e4183elevel0_row4\" class=\"row_heading level0 row4\" >Operations</th>\n",
       "                        <td id=\"T_d1303a3a_ef43_11ea_9edb_b46d83e4183erow4_col0\" class=\"data row4 col0\" >28</td>\n",
       "                        <td id=\"T_d1303a3a_ef43_11ea_9edb_b46d83e4183erow4_col1\" class=\"data row4 col1\" >28</td>\n",
       "                        <td id=\"T_d1303a3a_ef43_11ea_9edb_b46d83e4183erow4_col2\" class=\"data row4 col2\" >1</td>\n",
       "            </tr>\n",
       "            <tr>\n",
       "                        <th id=\"T_d1303a3a_ef43_11ea_9edb_b46d83e4183elevel0_row5\" class=\"row_heading level0 row5\" >Procurement</th>\n",
       "                        <td id=\"T_d1303a3a_ef43_11ea_9edb_b46d83e4183erow5_col0\" class=\"data row5 col0\" >51</td>\n",
       "                        <td id=\"T_d1303a3a_ef43_11ea_9edb_b46d83e4183erow5_col1\" class=\"data row5 col1\" >27</td>\n",
       "                        <td id=\"T_d1303a3a_ef43_11ea_9edb_b46d83e4183erow5_col2\" class=\"data row5 col2\" >0.529412</td>\n",
       "            </tr>\n",
       "            <tr>\n",
       "                        <th id=\"T_d1303a3a_ef43_11ea_9edb_b46d83e4183elevel0_row6\" class=\"row_heading level0 row6\" >R&D</th>\n",
       "                        <td id=\"T_d1303a3a_ef43_11ea_9edb_b46d83e4183erow6_col0\" class=\"data row6 col0\" >15</td>\n",
       "                        <td id=\"T_d1303a3a_ef43_11ea_9edb_b46d83e4183erow6_col1\" class=\"data row6 col1\" >4</td>\n",
       "                        <td id=\"T_d1303a3a_ef43_11ea_9edb_b46d83e4183erow6_col2\" class=\"data row6 col2\" >0.266667</td>\n",
       "            </tr>\n",
       "            <tr>\n",
       "                        <th id=\"T_d1303a3a_ef43_11ea_9edb_b46d83e4183elevel0_row7\" class=\"row_heading level0 row7\" >Sales & Marketing</th>\n",
       "                        <td id=\"T_d1303a3a_ef43_11ea_9edb_b46d83e4183erow7_col0\" class=\"data row7 col0\" >42</td>\n",
       "                        <td id=\"T_d1303a3a_ef43_11ea_9edb_b46d83e4183erow7_col1\" class=\"data row7 col1\" >42</td>\n",
       "                        <td id=\"T_d1303a3a_ef43_11ea_9edb_b46d83e4183erow7_col2\" class=\"data row7 col2\" >1</td>\n",
       "            </tr>\n",
       "            <tr>\n",
       "                        <th id=\"T_d1303a3a_ef43_11ea_9edb_b46d83e4183elevel0_row8\" class=\"row_heading level0 row8\" >Technology</th>\n",
       "                        <td id=\"T_d1303a3a_ef43_11ea_9edb_b46d83e4183erow8_col0\" class=\"data row8 col0\" >116</td>\n",
       "                        <td id=\"T_d1303a3a_ef43_11ea_9edb_b46d83e4183erow8_col1\" class=\"data row8 col1\" >46</td>\n",
       "                        <td id=\"T_d1303a3a_ef43_11ea_9edb_b46d83e4183erow8_col2\" class=\"data row8 col2\" >0.396552</td>\n",
       "            </tr>\n",
       "    </tbody></table>"
      ],
      "text/plain": [
       "<pandas.io.formats.style.Styler at 0x1e3ff1314a8>"
      ]
     },
     "execution_count": 28,
     "metadata": {},
     "output_type": "execute_result"
    }
   ],
   "source": [
    "x = data[(data['awards_won?'] == 1) & (data['KPIs_met >80%'] == 1) & (data['no_of_trainings'] < 3) & (data['avg_training_score'] > 70)]\n",
    "x[['is_promoted','department']].groupby(['department']).agg(['count','sum','mean']).style.background_gradient(cmap = 'Wistia')"
   ]
  },
  {
   "cell_type": "code",
   "execution_count": 23,
   "metadata": {
    "scrolled": true
   },
   "outputs": [
    {
     "data": {
      "text/html": [
       "<div>\n",
       "<style scoped>\n",
       "    .dataframe tbody tr th:only-of-type {\n",
       "        vertical-align: middle;\n",
       "    }\n",
       "\n",
       "    .dataframe tbody tr th {\n",
       "        vertical-align: top;\n",
       "    }\n",
       "\n",
       "    .dataframe thead th {\n",
       "        text-align: right;\n",
       "    }\n",
       "</style>\n",
       "<table border=\"1\" class=\"dataframe\">\n",
       "  <thead>\n",
       "    <tr style=\"text-align: right;\">\n",
       "      <th></th>\n",
       "      <th>length_of_service</th>\n",
       "      <th>previous_year_rating</th>\n",
       "      <th>avg_training_score</th>\n",
       "    </tr>\n",
       "    <tr>\n",
       "      <th>is_promoted</th>\n",
       "      <th></th>\n",
       "      <th></th>\n",
       "      <th></th>\n",
       "    </tr>\n",
       "  </thead>\n",
       "  <tbody>\n",
       "    <tr>\n",
       "      <th>0</th>\n",
       "      <td>5.879398</td>\n",
       "      <td>3.267911</td>\n",
       "      <td>62.647686</td>\n",
       "    </tr>\n",
       "    <tr>\n",
       "      <th>1</th>\n",
       "      <td>5.716367</td>\n",
       "      <td>3.986140</td>\n",
       "      <td>71.325193</td>\n",
       "    </tr>\n",
       "  </tbody>\n",
       "</table>\n",
       "</div>"
      ],
      "text/plain": [
       "             length_of_service  previous_year_rating  avg_training_score\n",
       "is_promoted                                                             \n",
       "0                     5.879398              3.267911           62.647686\n",
       "1                     5.716367              3.986140           71.325193"
      ]
     },
     "execution_count": 23,
     "metadata": {},
     "output_type": "execute_result"
    }
   ],
   "source": [
    "data[['length_of_service','previous_year_rating',\n",
    "      'is_promoted','avg_training_score']].groupby(['is_promoted']).agg('mean')"
   ]
  },
  {
   "cell_type": "code",
   "execution_count": 47,
   "metadata": {},
   "outputs": [
    {
     "data": {
      "text/plain": [
       "'Sales & Marketing'"
      ]
     },
     "execution_count": 47,
     "metadata": {},
     "output_type": "execute_result"
    }
   ],
   "source": [
    "data['department'].value_counts().index[0]"
   ]
  },
  {
   "cell_type": "code",
   "execution_count": 37,
   "metadata": {},
   "outputs": [
    {
     "data": {
      "text/html": [
       "<div>\n",
       "<style scoped>\n",
       "    .dataframe tbody tr th:only-of-type {\n",
       "        vertical-align: middle;\n",
       "    }\n",
       "\n",
       "    .dataframe tbody tr th {\n",
       "        vertical-align: top;\n",
       "    }\n",
       "\n",
       "    .dataframe thead th {\n",
       "        text-align: right;\n",
       "    }\n",
       "</style>\n",
       "<table border=\"1\" class=\"dataframe\">\n",
       "  <thead>\n",
       "    <tr style=\"text-align: right;\">\n",
       "      <th></th>\n",
       "      <th></th>\n",
       "      <th>is_promoted</th>\n",
       "    </tr>\n",
       "    <tr>\n",
       "      <th>education</th>\n",
       "      <th>department</th>\n",
       "      <th></th>\n",
       "    </tr>\n",
       "  </thead>\n",
       "  <tbody>\n",
       "    <tr>\n",
       "      <th>Bachelor's</th>\n",
       "      <th>Sales &amp; Marketing</th>\n",
       "      <td>0.071538</td>\n",
       "    </tr>\n",
       "  </tbody>\n",
       "</table>\n",
       "</div>"
      ],
      "text/plain": [
       "                              is_promoted\n",
       "education  department                    \n",
       "Bachelor's Sales & Marketing     0.071538"
      ]
     },
     "execution_count": 37,
     "metadata": {},
     "output_type": "execute_result"
    }
   ],
   "source": [
    "x = data[(data['education'] == \"Bachelor's\") & (data['department'] == 'Sales & Marketing')]\n",
    "\n",
    "x[['education','department','is_promoted']].groupby(['education',\n",
    "                                'department']).agg('mean')"
   ]
  },
  {
   "cell_type": "code",
   "execution_count": 21,
   "metadata": {},
   "outputs": [
    {
     "data": {
      "text/html": [
       "<style  type=\"text/css\" >\n",
       "    #T_772d45cc_ef42_11ea_a2e6_b46d83e4183erow0_col0 {\n",
       "            background-color:  #fc997a;\n",
       "            color:  #000000;\n",
       "        }    #T_772d45cc_ef42_11ea_a2e6_b46d83e4183erow0_col1 {\n",
       "            background-color:  #fb7555;\n",
       "            color:  #000000;\n",
       "        }    #T_772d45cc_ef42_11ea_a2e6_b46d83e4183erow0_col2 {\n",
       "            background-color:  #fb7151;\n",
       "            color:  #000000;\n",
       "        }    #T_772d45cc_ef42_11ea_a2e6_b46d83e4183erow1_col0 {\n",
       "            background-color:  #fdd4c2;\n",
       "            color:  #000000;\n",
       "        }    #T_772d45cc_ef42_11ea_a2e6_b46d83e4183erow1_col1 {\n",
       "            background-color:  #fdccb8;\n",
       "            color:  #000000;\n",
       "        }    #T_772d45cc_ef42_11ea_a2e6_b46d83e4183erow1_col2 {\n",
       "            background-color:  #fc8f6f;\n",
       "            color:  #000000;\n",
       "        }    #T_772d45cc_ef42_11ea_a2e6_b46d83e4183erow2_col0 {\n",
       "            background-color:  #fedfd0;\n",
       "            color:  #000000;\n",
       "        }    #T_772d45cc_ef42_11ea_a2e6_b46d83e4183erow2_col1 {\n",
       "            background-color:  #fee7db;\n",
       "            color:  #000000;\n",
       "        }    #T_772d45cc_ef42_11ea_a2e6_b46d83e4183erow2_col2 {\n",
       "            background-color:  #fee8de;\n",
       "            color:  #000000;\n",
       "        }    #T_772d45cc_ef42_11ea_a2e6_b46d83e4183erow3_col0 {\n",
       "            background-color:  #feeae0;\n",
       "            color:  #000000;\n",
       "        }    #T_772d45cc_ef42_11ea_a2e6_b46d83e4183erow3_col1 {\n",
       "            background-color:  #ffede5;\n",
       "            color:  #000000;\n",
       "        }    #T_772d45cc_ef42_11ea_a2e6_b46d83e4183erow3_col2 {\n",
       "            background-color:  #fee1d3;\n",
       "            color:  #000000;\n",
       "        }    #T_772d45cc_ef42_11ea_a2e6_b46d83e4183erow4_col0 {\n",
       "            background-color:  #d92523;\n",
       "            color:  #f1f1f1;\n",
       "        }    #T_772d45cc_ef42_11ea_a2e6_b46d83e4183erow4_col1 {\n",
       "            background-color:  #b71319;\n",
       "            color:  #f1f1f1;\n",
       "        }    #T_772d45cc_ef42_11ea_a2e6_b46d83e4183erow4_col2 {\n",
       "            background-color:  #fc8f6f;\n",
       "            color:  #000000;\n",
       "        }    #T_772d45cc_ef42_11ea_a2e6_b46d83e4183erow5_col0 {\n",
       "            background-color:  #fc8d6d;\n",
       "            color:  #000000;\n",
       "        }    #T_772d45cc_ef42_11ea_a2e6_b46d83e4183erow5_col1 {\n",
       "            background-color:  #fb6e4e;\n",
       "            color:  #000000;\n",
       "        }    #T_772d45cc_ef42_11ea_a2e6_b46d83e4183erow5_col2 {\n",
       "            background-color:  #fc8060;\n",
       "            color:  #000000;\n",
       "        }    #T_772d45cc_ef42_11ea_a2e6_b46d83e4183erow6_col0 {\n",
       "            background-color:  #ffeee6;\n",
       "            color:  #000000;\n",
       "        }    #T_772d45cc_ef42_11ea_a2e6_b46d83e4183erow6_col1 {\n",
       "            background-color:  #ffeee7;\n",
       "            color:  #000000;\n",
       "        }    #T_772d45cc_ef42_11ea_a2e6_b46d83e4183erow6_col2 {\n",
       "            background-color:  #fcb99f;\n",
       "            color:  #000000;\n",
       "        }    #T_772d45cc_ef42_11ea_a2e6_b46d83e4183erow7_col0 {\n",
       "            background-color:  #67000d;\n",
       "            color:  #f1f1f1;\n",
       "        }    #T_772d45cc_ef42_11ea_a2e6_b46d83e4183erow7_col1 {\n",
       "            background-color:  #67000d;\n",
       "            color:  #f1f1f1;\n",
       "        }    #T_772d45cc_ef42_11ea_a2e6_b46d83e4183erow7_col2 {\n",
       "            background-color:  #fcaf93;\n",
       "            color:  #000000;\n",
       "        }    #T_772d45cc_ef42_11ea_a2e6_b46d83e4183erow8_col0 {\n",
       "            background-color:  #fc8565;\n",
       "            color:  #000000;\n",
       "        }    #T_772d45cc_ef42_11ea_a2e6_b46d83e4183erow8_col1 {\n",
       "            background-color:  #ef3c2c;\n",
       "            color:  #f1f1f1;\n",
       "        }    #T_772d45cc_ef42_11ea_a2e6_b46d83e4183erow8_col2 {\n",
       "            background-color:  #f24734;\n",
       "            color:  #000000;\n",
       "        }    #T_772d45cc_ef42_11ea_a2e6_b46d83e4183erow9_col0 {\n",
       "            background-color:  #fff5f0;\n",
       "            color:  #000000;\n",
       "        }    #T_772d45cc_ef42_11ea_a2e6_b46d83e4183erow9_col1 {\n",
       "            background-color:  #fff5f0;\n",
       "            color:  #000000;\n",
       "        }    #T_772d45cc_ef42_11ea_a2e6_b46d83e4183erow9_col2 {\n",
       "            background-color:  #fdd7c6;\n",
       "            color:  #000000;\n",
       "        }    #T_772d45cc_ef42_11ea_a2e6_b46d83e4183erow10_col0 {\n",
       "            background-color:  #fff4ef;\n",
       "            color:  #000000;\n",
       "        }    #T_772d45cc_ef42_11ea_a2e6_b46d83e4183erow10_col1 {\n",
       "            background-color:  #fff4ef;\n",
       "            color:  #000000;\n",
       "        }    #T_772d45cc_ef42_11ea_a2e6_b46d83e4183erow10_col2 {\n",
       "            background-color:  #fcb398;\n",
       "            color:  #000000;\n",
       "        }    #T_772d45cc_ef42_11ea_a2e6_b46d83e4183erow11_col0 {\n",
       "            background-color:  #fff5f0;\n",
       "            color:  #000000;\n",
       "        }    #T_772d45cc_ef42_11ea_a2e6_b46d83e4183erow11_col1 {\n",
       "            background-color:  #fff5f0;\n",
       "            color:  #000000;\n",
       "        }    #T_772d45cc_ef42_11ea_a2e6_b46d83e4183erow11_col2 {\n",
       "            background-color:  #fdcab5;\n",
       "            color:  #000000;\n",
       "        }    #T_772d45cc_ef42_11ea_a2e6_b46d83e4183erow12_col0 {\n",
       "            background-color:  #fff4ee;\n",
       "            color:  #000000;\n",
       "        }    #T_772d45cc_ef42_11ea_a2e6_b46d83e4183erow12_col1 {\n",
       "            background-color:  #fff4ee;\n",
       "            color:  #000000;\n",
       "        }    #T_772d45cc_ef42_11ea_a2e6_b46d83e4183erow12_col2 {\n",
       "            background-color:  #fdc7b2;\n",
       "            color:  #000000;\n",
       "        }    #T_772d45cc_ef42_11ea_a2e6_b46d83e4183erow13_col0 {\n",
       "            background-color:  #fff4ef;\n",
       "            color:  #000000;\n",
       "        }    #T_772d45cc_ef42_11ea_a2e6_b46d83e4183erow13_col1 {\n",
       "            background-color:  #fff5f0;\n",
       "            color:  #000000;\n",
       "        }    #T_772d45cc_ef42_11ea_a2e6_b46d83e4183erow13_col2 {\n",
       "            background-color:  #feeae0;\n",
       "            color:  #000000;\n",
       "        }    #T_772d45cc_ef42_11ea_a2e6_b46d83e4183erow14_col0 {\n",
       "            background-color:  #fff3ed;\n",
       "            color:  #000000;\n",
       "        }    #T_772d45cc_ef42_11ea_a2e6_b46d83e4183erow14_col1 {\n",
       "            background-color:  #fff0e8;\n",
       "            color:  #000000;\n",
       "        }    #T_772d45cc_ef42_11ea_a2e6_b46d83e4183erow14_col2 {\n",
       "            background-color:  #67000d;\n",
       "            color:  #f1f1f1;\n",
       "        }    #T_772d45cc_ef42_11ea_a2e6_b46d83e4183erow15_col0 {\n",
       "            background-color:  #fee7db;\n",
       "            color:  #000000;\n",
       "        }    #T_772d45cc_ef42_11ea_a2e6_b46d83e4183erow15_col1 {\n",
       "            background-color:  #fedccd;\n",
       "            color:  #000000;\n",
       "        }    #T_772d45cc_ef42_11ea_a2e6_b46d83e4183erow15_col2 {\n",
       "            background-color:  #f14130;\n",
       "            color:  #f1f1f1;\n",
       "        }    #T_772d45cc_ef42_11ea_a2e6_b46d83e4183erow16_col0 {\n",
       "            background-color:  #ffeee7;\n",
       "            color:  #000000;\n",
       "        }    #T_772d45cc_ef42_11ea_a2e6_b46d83e4183erow16_col1 {\n",
       "            background-color:  #ffede5;\n",
       "            color:  #000000;\n",
       "        }    #T_772d45cc_ef42_11ea_a2e6_b46d83e4183erow16_col2 {\n",
       "            background-color:  #fc8666;\n",
       "            color:  #000000;\n",
       "        }    #T_772d45cc_ef42_11ea_a2e6_b46d83e4183erow17_col0 {\n",
       "            background-color:  #ffebe2;\n",
       "            color:  #000000;\n",
       "        }    #T_772d45cc_ef42_11ea_a2e6_b46d83e4183erow17_col1 {\n",
       "            background-color:  #feeae1;\n",
       "            color:  #000000;\n",
       "        }    #T_772d45cc_ef42_11ea_a2e6_b46d83e4183erow17_col2 {\n",
       "            background-color:  #fcaa8d;\n",
       "            color:  #000000;\n",
       "        }    #T_772d45cc_ef42_11ea_a2e6_b46d83e4183erow18_col0 {\n",
       "            background-color:  #fff4ee;\n",
       "            color:  #000000;\n",
       "        }    #T_772d45cc_ef42_11ea_a2e6_b46d83e4183erow18_col1 {\n",
       "            background-color:  #fff5f0;\n",
       "            color:  #000000;\n",
       "        }    #T_772d45cc_ef42_11ea_a2e6_b46d83e4183erow18_col2 {\n",
       "            background-color:  #fff5f0;\n",
       "            color:  #000000;\n",
       "        }    #T_772d45cc_ef42_11ea_a2e6_b46d83e4183erow19_col0 {\n",
       "            background-color:  #fcb296;\n",
       "            color:  #000000;\n",
       "        }    #T_772d45cc_ef42_11ea_a2e6_b46d83e4183erow19_col1 {\n",
       "            background-color:  #fb7b5b;\n",
       "            color:  #000000;\n",
       "        }    #T_772d45cc_ef42_11ea_a2e6_b46d83e4183erow19_col2 {\n",
       "            background-color:  #e93529;\n",
       "            color:  #f1f1f1;\n",
       "        }    #T_772d45cc_ef42_11ea_a2e6_b46d83e4183erow20_col0 {\n",
       "            background-color:  #fcc3ab;\n",
       "            color:  #000000;\n",
       "        }    #T_772d45cc_ef42_11ea_a2e6_b46d83e4183erow20_col1 {\n",
       "            background-color:  #fc9576;\n",
       "            color:  #000000;\n",
       "        }    #T_772d45cc_ef42_11ea_a2e6_b46d83e4183erow20_col2 {\n",
       "            background-color:  #e43027;\n",
       "            color:  #f1f1f1;\n",
       "        }    #T_772d45cc_ef42_11ea_a2e6_b46d83e4183erow21_col0 {\n",
       "            background-color:  #fff0e8;\n",
       "            color:  #000000;\n",
       "        }    #T_772d45cc_ef42_11ea_a2e6_b46d83e4183erow21_col1 {\n",
       "            background-color:  #fff0e8;\n",
       "            color:  #000000;\n",
       "        }    #T_772d45cc_ef42_11ea_a2e6_b46d83e4183erow21_col2 {\n",
       "            background-color:  #fcb499;\n",
       "            color:  #000000;\n",
       "        }    #T_772d45cc_ef42_11ea_a2e6_b46d83e4183erow22_col0 {\n",
       "            background-color:  #fc9373;\n",
       "            color:  #000000;\n",
       "        }    #T_772d45cc_ef42_11ea_a2e6_b46d83e4183erow22_col1 {\n",
       "            background-color:  #fc8161;\n",
       "            color:  #000000;\n",
       "        }    #T_772d45cc_ef42_11ea_a2e6_b46d83e4183erow22_col2 {\n",
       "            background-color:  #fc9272;\n",
       "            color:  #000000;\n",
       "        }    #T_772d45cc_ef42_11ea_a2e6_b46d83e4183erow23_col0 {\n",
       "            background-color:  #fdccb8;\n",
       "            color:  #000000;\n",
       "        }    #T_772d45cc_ef42_11ea_a2e6_b46d83e4183erow23_col1 {\n",
       "            background-color:  #fcaf93;\n",
       "            color:  #000000;\n",
       "        }    #T_772d45cc_ef42_11ea_a2e6_b46d83e4183erow23_col2 {\n",
       "            background-color:  #f34c37;\n",
       "            color:  #000000;\n",
       "        }</style><table id=\"T_772d45cc_ef42_11ea_a2e6_b46d83e4183e\" ><thead>    <tr>        <th class=\"blank\" ></th>        <th class=\"blank level0\" ></th>        <th class=\"col_heading level0 col0\" colspan=3>is_promoted</th>    </tr>    <tr>        <th class=\"blank\" ></th>        <th class=\"blank level1\" ></th>        <th class=\"col_heading level1 col0\" >count</th>        <th class=\"col_heading level1 col1\" >sum</th>        <th class=\"col_heading level1 col2\" >mean</th>    </tr>    <tr>        <th class=\"index_name level0\" >education</th>        <th class=\"index_name level1\" >department</th>        <th class=\"blank\" ></th>        <th class=\"blank\" ></th>        <th class=\"blank\" ></th>    </tr></thead><tbody>\n",
       "                <tr>\n",
       "                        <th id=\"T_772d45cc_ef42_11ea_a2e6_b46d83e4183elevel0_row0\" class=\"row_heading level0 row0\" rowspan=9>Bachelor's</th>\n",
       "                        <th id=\"T_772d45cc_ef42_11ea_a2e6_b46d83e4183elevel1_row0\" class=\"row_heading level1 row0\" >Analytics</th>\n",
       "                        <td id=\"T_772d45cc_ef42_11ea_a2e6_b46d83e4183erow0_col0\" class=\"data row0 col0\" >3978</td>\n",
       "                        <td id=\"T_772d45cc_ef42_11ea_a2e6_b46d83e4183erow0_col1\" class=\"data row0 col1\" >373</td>\n",
       "                        <td id=\"T_772d45cc_ef42_11ea_a2e6_b46d83e4183erow0_col2\" class=\"data row0 col2\" >0.0937657</td>\n",
       "            </tr>\n",
       "            <tr>\n",
       "                                <th id=\"T_772d45cc_ef42_11ea_a2e6_b46d83e4183elevel1_row1\" class=\"row_heading level1 row1\" >Finance</th>\n",
       "                        <td id=\"T_772d45cc_ef42_11ea_a2e6_b46d83e4183erow1_col0\" class=\"data row1 col0\" >1895</td>\n",
       "                        <td id=\"T_772d45cc_ef42_11ea_a2e6_b46d83e4183erow1_col1\" class=\"data row1 col1\" >157</td>\n",
       "                        <td id=\"T_772d45cc_ef42_11ea_a2e6_b46d83e4183erow1_col2\" class=\"data row1 col2\" >0.0828496</td>\n",
       "            </tr>\n",
       "            <tr>\n",
       "                                <th id=\"T_772d45cc_ef42_11ea_a2e6_b46d83e4183elevel1_row2\" class=\"row_heading level1 row2\" >HR</th>\n",
       "                        <td id=\"T_772d45cc_ef42_11ea_a2e6_b46d83e4183erow2_col0\" class=\"data row2 col0\" >1525</td>\n",
       "                        <td id=\"T_772d45cc_ef42_11ea_a2e6_b46d83e4183erow2_col1\" class=\"data row2 col1\" >72</td>\n",
       "                        <td id=\"T_772d45cc_ef42_11ea_a2e6_b46d83e4183erow2_col2\" class=\"data row2 col2\" >0.0472131</td>\n",
       "            </tr>\n",
       "            <tr>\n",
       "                                <th id=\"T_772d45cc_ef42_11ea_a2e6_b46d83e4183elevel1_row3\" class=\"row_heading level1 row3\" >Legal</th>\n",
       "                        <td id=\"T_772d45cc_ef42_11ea_a2e6_b46d83e4183erow3_col0\" class=\"data row3 col0\" >814</td>\n",
       "                        <td id=\"T_772d45cc_ef42_11ea_a2e6_b46d83e4183erow3_col1\" class=\"data row3 col1\" >43</td>\n",
       "                        <td id=\"T_772d45cc_ef42_11ea_a2e6_b46d83e4183erow3_col2\" class=\"data row3 col2\" >0.0528256</td>\n",
       "            </tr>\n",
       "            <tr>\n",
       "                                <th id=\"T_772d45cc_ef42_11ea_a2e6_b46d83e4183elevel1_row4\" class=\"row_heading level1 row4\" >Operations</th>\n",
       "                        <td id=\"T_772d45cc_ef42_11ea_a2e6_b46d83e4183erow4_col0\" class=\"data row4 col0\" >7781</td>\n",
       "                        <td id=\"T_772d45cc_ef42_11ea_a2e6_b46d83e4183erow4_col1\" class=\"data row4 col1\" >647</td>\n",
       "                        <td id=\"T_772d45cc_ef42_11ea_a2e6_b46d83e4183erow4_col2\" class=\"data row4 col2\" >0.0831513</td>\n",
       "            </tr>\n",
       "            <tr>\n",
       "                                <th id=\"T_772d45cc_ef42_11ea_a2e6_b46d83e4183elevel1_row5\" class=\"row_heading level1 row5\" >Procurement</th>\n",
       "                        <td id=\"T_772d45cc_ef42_11ea_a2e6_b46d83e4183erow5_col0\" class=\"data row5 col0\" >4393</td>\n",
       "                        <td id=\"T_772d45cc_ef42_11ea_a2e6_b46d83e4183erow5_col1\" class=\"data row5 col1\" >388</td>\n",
       "                        <td id=\"T_772d45cc_ef42_11ea_a2e6_b46d83e4183erow5_col2\" class=\"data row5 col2\" >0.0883223</td>\n",
       "            </tr>\n",
       "            <tr>\n",
       "                                <th id=\"T_772d45cc_ef42_11ea_a2e6_b46d83e4183elevel1_row6\" class=\"row_heading level1 row6\" >R&D</th>\n",
       "                        <td id=\"T_772d45cc_ef42_11ea_a2e6_b46d83e4183erow6_col0\" class=\"data row6 col0\" >542</td>\n",
       "                        <td id=\"T_772d45cc_ef42_11ea_a2e6_b46d83e4183erow6_col1\" class=\"data row6 col1\" >37</td>\n",
       "                        <td id=\"T_772d45cc_ef42_11ea_a2e6_b46d83e4183erow6_col2\" class=\"data row6 col2\" >0.0682657</td>\n",
       "            </tr>\n",
       "            <tr>\n",
       "                                <th id=\"T_772d45cc_ef42_11ea_a2e6_b46d83e4183elevel1_row7\" class=\"row_heading level1 row7\" >Sales & Marketing</th>\n",
       "                        <td id=\"T_772d45cc_ef42_11ea_a2e6_b46d83e4183erow7_col0\" class=\"data row7 col0\" >11099</td>\n",
       "                        <td id=\"T_772d45cc_ef42_11ea_a2e6_b46d83e4183erow7_col1\" class=\"data row7 col1\" >794</td>\n",
       "                        <td id=\"T_772d45cc_ef42_11ea_a2e6_b46d83e4183erow7_col2\" class=\"data row7 col2\" >0.071538</td>\n",
       "            </tr>\n",
       "            <tr>\n",
       "                                <th id=\"T_772d45cc_ef42_11ea_a2e6_b46d83e4183elevel1_row8\" class=\"row_heading level1 row8\" >Technology</th>\n",
       "                        <td id=\"T_772d45cc_ef42_11ea_a2e6_b46d83e4183erow8_col0\" class=\"data row8 col0\" >4642</td>\n",
       "                        <td id=\"T_772d45cc_ef42_11ea_a2e6_b46d83e4183erow8_col1\" class=\"data row8 col1\" >497</td>\n",
       "                        <td id=\"T_772d45cc_ef42_11ea_a2e6_b46d83e4183erow8_col2\" class=\"data row8 col2\" >0.107066</td>\n",
       "            </tr>\n",
       "            <tr>\n",
       "                        <th id=\"T_772d45cc_ef42_11ea_a2e6_b46d83e4183elevel0_row9\" class=\"row_heading level0 row9\" rowspan=6>Below Secondary</th>\n",
       "                        <th id=\"T_772d45cc_ef42_11ea_a2e6_b46d83e4183elevel1_row9\" class=\"row_heading level1 row9\" >Finance</th>\n",
       "                        <td id=\"T_772d45cc_ef42_11ea_a2e6_b46d83e4183erow9_col0\" class=\"data row9 col0\" >106</td>\n",
       "                        <td id=\"T_772d45cc_ef42_11ea_a2e6_b46d83e4183erow9_col1\" class=\"data row9 col1\" >6</td>\n",
       "                        <td id=\"T_772d45cc_ef42_11ea_a2e6_b46d83e4183erow9_col2\" class=\"data row9 col2\" >0.0566038</td>\n",
       "            </tr>\n",
       "            <tr>\n",
       "                                <th id=\"T_772d45cc_ef42_11ea_a2e6_b46d83e4183elevel1_row10\" class=\"row_heading level1 row10\" >HR</th>\n",
       "                        <td id=\"T_772d45cc_ef42_11ea_a2e6_b46d83e4183erow10_col0\" class=\"data row10 col0\" >128</td>\n",
       "                        <td id=\"T_772d45cc_ef42_11ea_a2e6_b46d83e4183erow10_col1\" class=\"data row10 col1\" >9</td>\n",
       "                        <td id=\"T_772d45cc_ef42_11ea_a2e6_b46d83e4183erow10_col2\" class=\"data row10 col2\" >0.0703125</td>\n",
       "            </tr>\n",
       "            <tr>\n",
       "                                <th id=\"T_772d45cc_ef42_11ea_a2e6_b46d83e4183elevel1_row11\" class=\"row_heading level1 row11\" >Legal</th>\n",
       "                        <td id=\"T_772d45cc_ef42_11ea_a2e6_b46d83e4183erow11_col0\" class=\"data row11 col0\" >65</td>\n",
       "                        <td id=\"T_772d45cc_ef42_11ea_a2e6_b46d83e4183erow11_col1\" class=\"data row11 col1\" >4</td>\n",
       "                        <td id=\"T_772d45cc_ef42_11ea_a2e6_b46d83e4183erow11_col2\" class=\"data row11 col2\" >0.0615385</td>\n",
       "            </tr>\n",
       "            <tr>\n",
       "                                <th id=\"T_772d45cc_ef42_11ea_a2e6_b46d83e4183elevel1_row12\" class=\"row_heading level1 row12\" >Operations</th>\n",
       "                        <td id=\"T_772d45cc_ef42_11ea_a2e6_b46d83e4183erow12_col0\" class=\"data row12 col0\" >176</td>\n",
       "                        <td id=\"T_772d45cc_ef42_11ea_a2e6_b46d83e4183erow12_col1\" class=\"data row12 col1\" >11</td>\n",
       "                        <td id=\"T_772d45cc_ef42_11ea_a2e6_b46d83e4183erow12_col2\" class=\"data row12 col2\" >0.0625</td>\n",
       "            </tr>\n",
       "            <tr>\n",
       "                                <th id=\"T_772d45cc_ef42_11ea_a2e6_b46d83e4183elevel1_row13\" class=\"row_heading level1 row13\" >Procurement</th>\n",
       "                        <td id=\"T_772d45cc_ef42_11ea_a2e6_b46d83e4183erow13_col0\" class=\"data row13 col0\" >129</td>\n",
       "                        <td id=\"T_772d45cc_ef42_11ea_a2e6_b46d83e4183erow13_col1\" class=\"data row13 col1\" >6</td>\n",
       "                        <td id=\"T_772d45cc_ef42_11ea_a2e6_b46d83e4183erow13_col2\" class=\"data row13 col2\" >0.0465116</td>\n",
       "            </tr>\n",
       "            <tr>\n",
       "                                <th id=\"T_772d45cc_ef42_11ea_a2e6_b46d83e4183elevel1_row14\" class=\"row_heading level1 row14\" >Technology</th>\n",
       "                        <td id=\"T_772d45cc_ef42_11ea_a2e6_b46d83e4183erow14_col0\" class=\"data row14 col0\" >201</td>\n",
       "                        <td id=\"T_772d45cc_ef42_11ea_a2e6_b46d83e4183erow14_col1\" class=\"data row14 col1\" >31</td>\n",
       "                        <td id=\"T_772d45cc_ef42_11ea_a2e6_b46d83e4183erow14_col2\" class=\"data row14 col2\" >0.154229</td>\n",
       "            </tr>\n",
       "            <tr>\n",
       "                        <th id=\"T_772d45cc_ef42_11ea_a2e6_b46d83e4183elevel0_row15\" class=\"row_heading level0 row15\" rowspan=9>Master's & above</th>\n",
       "                        <th id=\"T_772d45cc_ef42_11ea_a2e6_b46d83e4183elevel1_row15\" class=\"row_heading level1 row15\" >Analytics</th>\n",
       "                        <td id=\"T_772d45cc_ef42_11ea_a2e6_b46d83e4183erow15_col0\" class=\"data row15 col0\" >1037</td>\n",
       "                        <td id=\"T_772d45cc_ef42_11ea_a2e6_b46d83e4183erow15_col1\" class=\"data row15 col1\" >113</td>\n",
       "                        <td id=\"T_772d45cc_ef42_11ea_a2e6_b46d83e4183erow15_col2\" class=\"data row15 col2\" >0.108968</td>\n",
       "            </tr>\n",
       "            <tr>\n",
       "                                <th id=\"T_772d45cc_ef42_11ea_a2e6_b46d83e4183elevel1_row16\" class=\"row_heading level1 row16\" >Finance</th>\n",
       "                        <td id=\"T_772d45cc_ef42_11ea_a2e6_b46d83e4183erow16_col0\" class=\"data row16 col0\" >499</td>\n",
       "                        <td id=\"T_772d45cc_ef42_11ea_a2e6_b46d83e4183erow16_col1\" class=\"data row16 col1\" >43</td>\n",
       "                        <td id=\"T_772d45cc_ef42_11ea_a2e6_b46d83e4183erow16_col2\" class=\"data row16 col2\" >0.0861723</td>\n",
       "            </tr>\n",
       "            <tr>\n",
       "                                <th id=\"T_772d45cc_ef42_11ea_a2e6_b46d83e4183elevel1_row17\" class=\"row_heading level1 row17\" >HR</th>\n",
       "                        <td id=\"T_772d45cc_ef42_11ea_a2e6_b46d83e4183erow17_col0\" class=\"data row17 col0\" >733</td>\n",
       "                        <td id=\"T_772d45cc_ef42_11ea_a2e6_b46d83e4183erow17_col1\" class=\"data row17 col1\" >54</td>\n",
       "                        <td id=\"T_772d45cc_ef42_11ea_a2e6_b46d83e4183erow17_col2\" class=\"data row17 col2\" >0.0736698</td>\n",
       "            </tr>\n",
       "            <tr>\n",
       "                                <th id=\"T_772d45cc_ef42_11ea_a2e6_b46d83e4183elevel1_row18\" class=\"row_heading level1 row18\" >Legal</th>\n",
       "                        <td id=\"T_772d45cc_ef42_11ea_a2e6_b46d83e4183erow18_col0\" class=\"data row18 col0\" >156</td>\n",
       "                        <td id=\"T_772d45cc_ef42_11ea_a2e6_b46d83e4183erow18_col1\" class=\"data row18 col1\" >6</td>\n",
       "                        <td id=\"T_772d45cc_ef42_11ea_a2e6_b46d83e4183erow18_col2\" class=\"data row18 col2\" >0.0384615</td>\n",
       "            </tr>\n",
       "            <tr>\n",
       "                                <th id=\"T_772d45cc_ef42_11ea_a2e6_b46d83e4183elevel1_row19\" class=\"row_heading level1 row19\" >Operations</th>\n",
       "                        <td id=\"T_772d45cc_ef42_11ea_a2e6_b46d83e4183erow19_col0\" class=\"data row19 col0\" >3165</td>\n",
       "                        <td id=\"T_772d45cc_ef42_11ea_a2e6_b46d83e4183erow19_col1\" class=\"data row19 col1\" >358</td>\n",
       "                        <td id=\"T_772d45cc_ef42_11ea_a2e6_b46d83e4183erow19_col2\" class=\"data row19 col2\" >0.113112</td>\n",
       "            </tr>\n",
       "            <tr>\n",
       "                                <th id=\"T_772d45cc_ef42_11ea_a2e6_b46d83e4183elevel1_row20\" class=\"row_heading level1 row20\" >Procurement</th>\n",
       "                        <td id=\"T_772d45cc_ef42_11ea_a2e6_b46d83e4183erow20_col0\" class=\"data row20 col0\" >2544</td>\n",
       "                        <td id=\"T_772d45cc_ef42_11ea_a2e6_b46d83e4183erow20_col1\" class=\"data row20 col1\" >293</td>\n",
       "                        <td id=\"T_772d45cc_ef42_11ea_a2e6_b46d83e4183erow20_col2\" class=\"data row20 col2\" >0.115173</td>\n",
       "            </tr>\n",
       "            <tr>\n",
       "                                <th id=\"T_772d45cc_ef42_11ea_a2e6_b46d83e4183elevel1_row21\" class=\"row_heading level1 row21\" >R&D</th>\n",
       "                        <td id=\"T_772d45cc_ef42_11ea_a2e6_b46d83e4183erow21_col0\" class=\"data row21 col0\" >429</td>\n",
       "                        <td id=\"T_772d45cc_ef42_11ea_a2e6_b46d83e4183erow21_col1\" class=\"data row21 col1\" >30</td>\n",
       "                        <td id=\"T_772d45cc_ef42_11ea_a2e6_b46d83e4183erow21_col2\" class=\"data row21 col2\" >0.0699301</td>\n",
       "            </tr>\n",
       "            <tr>\n",
       "                                <th id=\"T_772d45cc_ef42_11ea_a2e6_b46d83e4183elevel1_row22\" class=\"row_heading level1 row22\" >Sales & Marketing</th>\n",
       "                        <td id=\"T_772d45cc_ef42_11ea_a2e6_b46d83e4183erow22_col0\" class=\"data row22 col0\" >4166</td>\n",
       "                        <td id=\"T_772d45cc_ef42_11ea_a2e6_b46d83e4183erow22_col1\" class=\"data row22 col1\" >342</td>\n",
       "                        <td id=\"T_772d45cc_ef42_11ea_a2e6_b46d83e4183erow22_col2\" class=\"data row22 col2\" >0.0820931</td>\n",
       "            </tr>\n",
       "            <tr>\n",
       "                                <th id=\"T_772d45cc_ef42_11ea_a2e6_b46d83e4183elevel1_row23\" class=\"row_heading level1 row23\" >Technology</th>\n",
       "                        <td id=\"T_772d45cc_ef42_11ea_a2e6_b46d83e4183erow23_col0\" class=\"data row23 col0\" >2196</td>\n",
       "                        <td id=\"T_772d45cc_ef42_11ea_a2e6_b46d83e4183erow23_col1\" class=\"data row23 col1\" >232</td>\n",
       "                        <td id=\"T_772d45cc_ef42_11ea_a2e6_b46d83e4183erow23_col2\" class=\"data row23 col2\" >0.105647</td>\n",
       "            </tr>\n",
       "    </tbody></table>"
      ],
      "text/plain": [
       "<pandas.io.formats.style.Styler at 0x1e382e97128>"
      ]
     },
     "execution_count": 21,
     "metadata": {},
     "output_type": "execute_result"
    }
   ],
   "source": [
    "data[['education','department','is_promoted']].groupby(['education',\n",
    "                                'department']).agg(['count','sum','mean']).style.background_gradient(cmap = 'Reds')"
   ]
  },
  {
   "cell_type": "code",
   "execution_count": 14,
   "metadata": {},
   "outputs": [
    {
     "data": {
      "text/html": [
       "<div>\n",
       "<style scoped>\n",
       "    .dataframe tbody tr th:only-of-type {\n",
       "        vertical-align: middle;\n",
       "    }\n",
       "\n",
       "    .dataframe tbody tr th {\n",
       "        vertical-align: top;\n",
       "    }\n",
       "\n",
       "    .dataframe thead th {\n",
       "        text-align: right;\n",
       "    }\n",
       "</style>\n",
       "<table border=\"1\" class=\"dataframe\">\n",
       "  <thead>\n",
       "    <tr style=\"text-align: right;\">\n",
       "      <th>is_promoted</th>\n",
       "      <th>0</th>\n",
       "      <th>1</th>\n",
       "    </tr>\n",
       "    <tr>\n",
       "      <th>no_of_trainings</th>\n",
       "      <th></th>\n",
       "      <th></th>\n",
       "    </tr>\n",
       "  </thead>\n",
       "  <tbody>\n",
       "    <tr>\n",
       "      <th>1</th>\n",
       "      <td>40468</td>\n",
       "      <td>3910</td>\n",
       "    </tr>\n",
       "    <tr>\n",
       "      <th>2</th>\n",
       "      <td>7382</td>\n",
       "      <td>605</td>\n",
       "    </tr>\n",
       "    <tr>\n",
       "      <th>3</th>\n",
       "      <td>1654</td>\n",
       "      <td>122</td>\n",
       "    </tr>\n",
       "    <tr>\n",
       "      <th>4</th>\n",
       "      <td>442</td>\n",
       "      <td>26</td>\n",
       "    </tr>\n",
       "    <tr>\n",
       "      <th>5</th>\n",
       "      <td>125</td>\n",
       "      <td>3</td>\n",
       "    </tr>\n",
       "    <tr>\n",
       "      <th>6</th>\n",
       "      <td>42</td>\n",
       "      <td>2</td>\n",
       "    </tr>\n",
       "    <tr>\n",
       "      <th>7</th>\n",
       "      <td>12</td>\n",
       "      <td>0</td>\n",
       "    </tr>\n",
       "    <tr>\n",
       "      <th>8</th>\n",
       "      <td>5</td>\n",
       "      <td>0</td>\n",
       "    </tr>\n",
       "    <tr>\n",
       "      <th>9</th>\n",
       "      <td>5</td>\n",
       "      <td>0</td>\n",
       "    </tr>\n",
       "    <tr>\n",
       "      <th>10</th>\n",
       "      <td>5</td>\n",
       "      <td>0</td>\n",
       "    </tr>\n",
       "  </tbody>\n",
       "</table>\n",
       "</div>"
      ],
      "text/plain": [
       "is_promoted          0     1\n",
       "no_of_trainings             \n",
       "1                40468  3910\n",
       "2                 7382   605\n",
       "3                 1654   122\n",
       "4                  442    26\n",
       "5                  125     3\n",
       "6                   42     2\n",
       "7                   12     0\n",
       "8                    5     0\n",
       "9                    5     0\n",
       "10                   5     0"
      ]
     },
     "execution_count": 14,
     "metadata": {},
     "output_type": "execute_result"
    }
   ],
   "source": [
    "pd.crosstab(data['no_of_trainings'], data['is_promoted'])"
   ]
  },
  {
   "cell_type": "markdown",
   "metadata": {},
   "source": [
    "## Q1. Does Older Employees getting more Promotion than Younger Employees?"
   ]
  },
  {
   "cell_type": "code",
   "execution_count": 4,
   "metadata": {},
   "outputs": [
    {
     "name": "stdout",
     "output_type": "stream",
     "text": [
      "Minimum age is 20 and Maximum age is  60\n"
     ]
    }
   ],
   "source": [
    "# lets check the range of the age \n",
    "max_age = data['age'].max()\n",
    "min_age = data['age'].min()\n",
    "print('Minimum age is {} and Maximum age is  {}'.format(min_age, max_age))"
   ]
  },
  {
   "cell_type": "code",
   "execution_count": 5,
   "metadata": {},
   "outputs": [],
   "source": [
    "# lets consider all the employees under 30 as young and otherwise as old\n",
    "\n",
    "young_employees = data[data['age'] <= 30]\n",
    "old_employees = data[data['age'] > 30]"
   ]
  },
  {
   "cell_type": "code",
   "execution_count": 7,
   "metadata": {},
   "outputs": [
    {
     "data": {
      "text/plain": [
       "0    40237\n",
       "1     3909\n",
       "Name: is_promoted, dtype: int64"
      ]
     },
     "execution_count": 7,
     "metadata": {},
     "output_type": "execute_result"
    }
   ],
   "source": [
    "# Now Lets check the Percentage of Employees getting Promotion from Young and Old Group of Employees.\n",
    "\n",
    "young_employees['is_promoted'].value_counts()"
   ]
  },
  {
   "cell_type": "code",
   "execution_count": 8,
   "metadata": {},
   "outputs": [
    {
     "data": {
      "text/plain": [
       "0    9903\n",
       "1     759\n",
       "Name: is_promoted, dtype: int64"
      ]
     },
     "execution_count": 8,
     "metadata": {},
     "output_type": "execute_result"
    }
   ],
   "source": [
    "# Now Lets check the Percentage of Employees getting Promotion from Young and Old Group of Employees.\n",
    "\n",
    "old_employees['is_promoted'].value_counts()"
   ]
  },
  {
   "cell_type": "code",
   "execution_count": 9,
   "metadata": {},
   "outputs": [
    {
     "name": "stdout",
     "output_type": "stream",
     "text": [
      "0.08854709373442668 0.07114735658042745\n"
     ]
    }
   ],
   "source": [
    "perc_young = 3909/(40237+3909)  # young_employees[young_employees['is_promorted'] == 1]/young_employees.shape[0]\n",
    "perc_old = 759/(9909+759)\n",
    "\n",
    "print(perc_young, perc_old)"
   ]
  },
  {
   "cell_type": "markdown",
   "metadata": {},
   "source": [
    "## Q2. What is the Probability to get Promoted, If an employeed has won an award?"
   ]
  },
  {
   "cell_type": "code",
   "execution_count": 45,
   "metadata": {},
   "outputs": [
    {
     "data": {
      "text/plain": [
       "0    711\n",
       "1    559\n",
       "Name: is_promoted, dtype: int64"
      ]
     },
     "execution_count": 45,
     "metadata": {},
     "output_type": "execute_result"
    }
   ],
   "source": [
    "# lets check the count of employees who got promotion \n",
    "\n",
    "award_wining_employees = data[data['awards_won?'] == 1]\n",
    "award_wining_employees['is_promoted'].value_counts()"
   ]
  },
  {
   "cell_type": "code",
   "execution_count": 46,
   "metadata": {},
   "outputs": [
    {
     "name": "stdout",
     "output_type": "stream",
     "text": [
      "The Probability of an Employee to get Promotion is : 44.02%\n"
     ]
    }
   ],
   "source": [
    "# let check the Probability of the employees getting promoted after wining an award\n",
    "\n",
    "# probability = award_wining_employees[award_wining_employees['is_promoted'] == 1].shape[0]/data.shape[0]\n",
    "probability = 559/(559+711)\n",
    "print(\"The Probability of an Employee to get Promotion is : {0:.2f}%\".format(probability*100))"
   ]
  },
  {
   "cell_type": "code",
   "execution_count": 6,
   "metadata": {
    "scrolled": true
   },
   "outputs": [
    {
     "data": {
      "text/plain": [
       "0    49429\n",
       "1     4109\n",
       "Name: is_promoted, dtype: int64"
      ]
     },
     "execution_count": 6,
     "metadata": {},
     "output_type": "execute_result"
    }
   ],
   "source": [
    "award_wining_employees = data[data['awards_won?'] == 0]\n",
    "award_wining_employees['is_promoted'].value_counts()"
   ]
  },
  {
   "cell_type": "code",
   "execution_count": 8,
   "metadata": {},
   "outputs": [
    {
     "data": {
      "text/plain": [
       "0.0767492248496395"
      ]
     },
     "execution_count": 8,
     "metadata": {},
     "output_type": "execute_result"
    }
   ],
   "source": [
    "x = 4109/(4109+49429)\n",
    "x"
   ]
  },
  {
   "cell_type": "markdown",
   "metadata": {},
   "source": [
    "## Q3. What is the Average Training Score of those Employees who got Promotion?"
   ]
  },
  {
   "cell_type": "code",
   "execution_count": 47,
   "metadata": {},
   "outputs": [
    {
     "name": "stdout",
     "output_type": "stream",
     "text": [
      "The Average Training Score for the Employees who got Promotion is 71\n"
     ]
    }
   ],
   "source": [
    "promoted_employees = data[data['is_promoted'] == 1]\n",
    "avg_training_score_promoted_emp = promoted_employees['avg_training_score'].mean()\n",
    "print(\"The Average Training Score for the Employees who got Promotion is {0:.0f}\".format(avg_training_score_promoted_emp))"
   ]
  },
  {
   "cell_type": "markdown",
   "metadata": {},
   "source": [
    "## Q4. What is the Impact of Gender in Promotions?"
   ]
  },
  {
   "cell_type": "code",
   "execution_count": 48,
   "metadata": {
    "scrolled": true
   },
   "outputs": [
    {
     "data": {
      "text/plain": [
       "m    38496\n",
       "f    16312\n",
       "Name: gender, dtype: int64"
      ]
     },
     "execution_count": 48,
     "metadata": {},
     "output_type": "execute_result"
    }
   ],
   "source": [
    "# lets check the gender gap in total employees\n",
    "\n",
    "data['gender'].value_counts()"
   ]
  },
  {
   "cell_type": "code",
   "execution_count": 49,
   "metadata": {},
   "outputs": [
    {
     "data": {
      "text/plain": [
       "m    3201\n",
       "f    1467\n",
       "Name: gender, dtype: int64"
      ]
     },
     "execution_count": 49,
     "metadata": {},
     "output_type": "execute_result"
    }
   ],
   "source": [
    "# lets check the Gender Gap in Promotion\n",
    "\n",
    "promoted_employees['gender'].value_counts()"
   ]
  },
  {
   "cell_type": "code",
   "execution_count": 10,
   "metadata": {},
   "outputs": [
    {
     "name": "stdout",
     "output_type": "stream",
     "text": [
      "0.08315149625935161 0.08993379107405591\n"
     ]
    }
   ],
   "source": [
    "m_prom = 3201/38496\n",
    "f_prom = 1467/16312\n",
    "print(m_prom, f_prom)"
   ]
  },
  {
   "cell_type": "markdown",
   "metadata": {},
   "source": [
    "## Q5. What is the Probability of Freshers getting Promoted?"
   ]
  },
  {
   "cell_type": "code",
   "execution_count": 12,
   "metadata": {},
   "outputs": [
    {
     "data": {
      "text/plain": [
       "0    8057\n",
       "1     743\n",
       "Name: is_promoted, dtype: int64"
      ]
     },
     "execution_count": 12,
     "metadata": {},
     "output_type": "execute_result"
    }
   ],
   "source": [
    "# lets consider the employees who have worked for less than equal to two years\n",
    "\n",
    "freshers = data[(data['length_of_service'] <= 2) & (data['age'] <= 30)]\n",
    "freshers['is_promoted'].value_counts()"
   ]
  },
  {
   "cell_type": "code",
   "execution_count": 13,
   "metadata": {},
   "outputs": [
    {
     "name": "stdout",
     "output_type": "stream",
     "text": [
      "Probability of a Fresher being Promoted is 8.44%\n"
     ]
    }
   ],
   "source": [
    "# lets check the Percentage also\n",
    "\n",
    "prob = 743/(8057+743)\n",
    "print(\"Probability of a Fresher being Promoted is {0:.2f}%\".format(prob*100))"
   ]
  }
 ],
 "metadata": {
  "kernelspec": {
   "display_name": "Python 3",
   "language": "python",
   "name": "python3"
  },
  "language_info": {
   "codemirror_mode": {
    "name": "ipython",
    "version": 3
   },
   "file_extension": ".py",
   "mimetype": "text/x-python",
   "name": "python",
   "nbconvert_exporter": "python",
   "pygments_lexer": "ipython3",
   "version": "3.6.7rc1"
  }
 },
 "nbformat": 4,
 "nbformat_minor": 4
}
